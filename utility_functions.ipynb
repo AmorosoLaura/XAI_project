{
 "cells": [
  {
   "cell_type": "code",
   "execution_count": 1,
   "metadata": {},
   "outputs": [
    {
     "name": "stdout",
     "output_type": "stream",
     "text": [
      "Number of rows with label 'hate' and prediction 0 or label 'nothate' and prediction 1: 2898\n"
     ]
    }
   ],
   "source": [
    "import pandas as pd\n",
    "\n",
    "# Load the CSV file into a DataFrame\n",
    "df = pd.read_csv('classified_sentences_finetuned.csv')\n",
    "\n",
    "# Define the conditions\n",
    "condition1 = (df['label'] == 'hate') & (df['prediction'] == 0)\n",
    "condition2 = (df['label'] == 'nothate') & (df['prediction'] == 1)\n",
    "\n",
    "# Count the rows that meet either condition\n",
    "count = df[condition1 | condition2].shape[0]\n",
    "\n",
    "print(f\"Number of rows with label 'hate' and prediction 0 or label 'nothate' and prediction 1: {count}\")\n"
   ]
  },
  {
   "cell_type": "code",
   "execution_count": 2,
   "metadata": {},
   "outputs": [
    {
     "name": "stdout",
     "output_type": "stream",
     "text": [
      "Number of rows with label 'hate' and prediction 0 or label 'nothate' and prediction 1: 7560\n"
     ]
    }
   ],
   "source": [
    "import pandas as pd\n",
    "\n",
    "# Load the CSV file into a DataFrame\n",
    "df = pd.read_csv('classified_sentences.csv')\n",
    "\n",
    "# Define the conditions\n",
    "condition1 = (df['label'] == 'hate') & (df['prediction'] == 0)\n",
    "condition2 = (df['label'] == 'nothate') & (df['prediction'] == 1)\n",
    "\n",
    "# Count the rows that meet either condition\n",
    "count = df[condition1 | condition2].shape[0]\n",
    "\n",
    "print(f\"Number of rows with label 'hate' and prediction 0 or label 'nothate' and prediction 1: {count}\")\n"
   ]
  }
 ],
 "metadata": {
  "kernelspec": {
   "display_name": "Python 3",
   "language": "python",
   "name": "python3"
  },
  "language_info": {
   "codemirror_mode": {
    "name": "ipython",
    "version": 3
   },
   "file_extension": ".py",
   "mimetype": "text/x-python",
   "name": "python",
   "nbconvert_exporter": "python",
   "pygments_lexer": "ipython3",
   "version": "3.10.13"
  }
 },
 "nbformat": 4,
 "nbformat_minor": 2
}
