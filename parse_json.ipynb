{
 "cells": [
  {
   "cell_type": "code",
   "execution_count": 2,
   "metadata": {},
   "outputs": [
    {
     "data": {
      "text/plain": [
       "16458"
      ]
     },
     "execution_count": 2,
     "metadata": {},
     "output_type": "execute_result"
    }
   ],
   "source": [
    "import pandas as pd\n",
    "\n",
    "# Read CSV file into another DataFrame\n",
    "df_csv = pd.read_csv('test_hate_dataset.csv', encoding='utf-8')\n",
    "df_csv.head()\n",
    "# Remove the single quote at the beginning of each sentence in the 'text' column\n",
    "df_csv['text'] = df_csv['text'].str.replace(\"^'\", \"\", regex=True)\n",
    "#df_csv.iloc[4]['text']\n",
    "df_csv['text'] = df_csv['text'].str.strip()\n",
    "len(df_csv)"
   ]
  },
  {
   "cell_type": "code",
   "execution_count": 5,
   "metadata": {},
   "outputs": [
    {
     "name": "stdout",
     "output_type": "stream",
     "text": [
      "Corrupted files 367 missing sentences are much more!!!!\n",
      "                                           full_sentence  sentence_number  \\\n",
      "0      social services have a love/hate relationship ...                0   \n",
      "1      Yes it's a joke and offensive isn't it? Why ar...                1   \n",
      "2      I do not have passions in life, and I'm not su...                2   \n",
      "3      You better be. That was the most half-assed co...                3   \n",
      "4      Waging war on, and bombing, a foreign sovereig...                4   \n",
      "...                                                  ...              ...   \n",
      "14621  I am getting more knowledgable in Islam thanks...                2   \n",
      "14622  go fuck yourself if you ride camels in dubai w...                3   \n",
      "14623                           All foreigners are dirty                4   \n",
      "14624  Seeing my dumb ass brothers learning to swim i...                0   \n",
      "14625  My fucking wish is to have enough money to mak...                1   \n",
      "\n",
      "                                                  topics  \n",
      "0      [{'sentence_slice': 'social services', 'topic'...  \n",
      "1      [{'sentence_slice': 'trans men', 'topic': 'Gen...  \n",
      "2      [{'sentence_slice': 'passions in life', 'topic...  \n",
      "3      [{'sentence_slice': 'comeback attempt', 'topic...  \n",
      "4      [{'sentence_slice': 'war', 'topic': 'Conflict'...  \n",
      "...                                                  ...  \n",
      "14621  [{'sentence_slice': 'Islam', 'topic': 'Religio...  \n",
      "14622  [{'sentence_slice': 'riding camels in Dubai', ...  \n",
      "14623  [{'sentence_slice': 'foreigners', 'topic': 'Na...  \n",
      "14624  [{'sentence_slice': 'dumb ass brothers learnin...  \n",
      "14625  [{'sentence_slice': 'My wish', 'topic': 'Perso...  \n",
      "\n",
      "[14626 rows x 3 columns]\n"
     ]
    }
   ],
   "source": [
    "import pandas as pd\n",
    "import json\n",
    "import os\n",
    "\n",
    "# Define the root folder containing the JSON files\n",
    "root_folder_path = 'extraction_05'\n",
    "\n",
    "# List to store individual DataFrames\n",
    "dataframes = []\n",
    "count=0\n",
    "# Recursively walk through the folder structure\n",
    "for dirpath, dirnames, filenames in os.walk(root_folder_path):\n",
    "\n",
    "    for filename in filenames:\n",
    "        if filename.endswith('.json'):\n",
    "            file_path = os.path.join(dirpath, filename)\n",
    "            try:\n",
    "                with open(file_path, 'r', encoding='utf-8') as f:\n",
    "                    data = json.load(f)\n",
    "                    # Transform JSON to DataFrame and append to the list\n",
    "                    df = pd.DataFrame(data)\n",
    "                    dataframes.append(df)\n",
    "            except json.JSONDecodeError as e:\n",
    "                count+=1\n",
    "                #print(f\"Error decoding JSON file {file_path}: {e}\")\n",
    "            except Exception as e:\n",
    "                count+=1\n",
    "\n",
    "                #print(f\"Unexpected error with file {file_path}: {e}\")\n",
    "print(\"Corrupted files\",count, \"missing sentences are much more!!!!\")\n",
    "# Concatenate all DataFrames if any valid data was found\n",
    "if dataframes:\n",
    "    final_df = pd.concat(dataframes, ignore_index=True)\n",
    "    print(final_df)\n",
    "else:\n",
    "    print(\"No valid JSON files found.\")\n"
   ]
  },
  {
   "cell_type": "code",
   "execution_count": 7,
   "metadata": {},
   "outputs": [
    {
     "name": "stdout",
     "output_type": "stream",
     "text": [
      "Length json 14626\n",
      "Length merged 12914\n",
      "36 and have never bothered with women because they're a w*ste of time and space. Now, I'm ahead of the game.\n",
      "\n",
      "Dear foreigners, stop saying you have pure intentions when you clearly dont\n"
     ]
    }
   ],
   "source": [
    "\n",
    "final_df = final_df.rename(columns={'full_sentence': 'text'})\n",
    "\n",
    "\"\"\" final_df['text']= emoji.replace_emoji(final_df['text'])\n",
    "df_csv['text']= emoji.replace_emoji(df_csv['text'])\n",
    " \"\"\"\n",
    "#remove the ' or \" at the beginning and ending of the string for both the dataframes\n",
    "final_df['text'] = final_df['text'].str.replace(\"^'\", \"\", regex=True)\n",
    "final_df['text'] = final_df['text'].str.replace(\"'$\", \"\", regex=True)\n",
    "final_df['text'] = final_df['text'].str.replace(\"^\\\"\", \"\", regex=True)\n",
    "final_df['text'] = final_df['text'].str.replace(\"\\\"$\", \"\", regex=True)\n",
    "df_csv['text'] = df_csv['text'].str.replace(\"^'\", \"\", regex=True)\n",
    "df_csv['text'] = df_csv['text'].str.replace(\"'$\", \"\", regex=True)\n",
    "df_csv['text'] = df_csv['text'].str.replace(\"^\\\"\", \"\", regex=True)\n",
    "df_csv['text'] = df_csv['text'].str.replace(\"\\\"$\", \"\", regex=True)\n",
    "\n",
    "#replace the \" with ' \n",
    "df_csv['text'] = df_csv['text'].str.replace(\"\\\"\", \"'\", regex=True)\n",
    "final_df['text'] = final_df['text'].str.replace(\"\\\"\", \"'\", regex=True)\n",
    "\n",
    "#remove extra blank spaces \n",
    "df_csv['text'] = df_csv['text'].str.strip()\n",
    "final_df['text'] = final_df['text'].str.strip()\n",
    "\n",
    "merged_df = pd.merge(final_df, df_csv, on='text', how='inner')\n",
    "\n",
    "#print(merged_df)\n",
    "print(\"Length json\",len(final_df))\n",
    "\n",
    "print(\"Length merged\",len(merged_df))\n",
    "print(df_csv.iloc[11465]['text'])\n",
    "\n",
    "left_out_senteces= pd.merge(final_df, merged_df, on ='text', how='left')\n",
    "print()\n",
    "print(left_out_senteces[left_out_senteces['label'].isnull()].iloc[9]['text'])"
   ]
  },
  {
   "cell_type": "code",
   "execution_count": 8,
   "metadata": {},
   "outputs": [
    {
     "data": {
      "text/html": [
       "<div>\n",
       "<style scoped>\n",
       "    .dataframe tbody tr th:only-of-type {\n",
       "        vertical-align: middle;\n",
       "    }\n",
       "\n",
       "    .dataframe tbody tr th {\n",
       "        vertical-align: top;\n",
       "    }\n",
       "\n",
       "    .dataframe thead th {\n",
       "        text-align: right;\n",
       "    }\n",
       "</style>\n",
       "<table border=\"1\" class=\"dataframe\">\n",
       "  <thead>\n",
       "    <tr style=\"text-align: right;\">\n",
       "      <th></th>\n",
       "      <th>text</th>\n",
       "      <th>sentence_number</th>\n",
       "      <th>topics</th>\n",
       "      <th>label</th>\n",
       "    </tr>\n",
       "  </thead>\n",
       "  <tbody>\n",
       "    <tr>\n",
       "      <th>0</th>\n",
       "      <td>social services have a love/hate relationship ...</td>\n",
       "      <td>0</td>\n",
       "      <td>[{'sentence_slice': 'social services', 'topic'...</td>\n",
       "      <td>nothate</td>\n",
       "    </tr>\n",
       "    <tr>\n",
       "      <th>1</th>\n",
       "      <td>Yes it's a joke and offensive isn't it? Why ar...</td>\n",
       "      <td>1</td>\n",
       "      <td>[{'sentence_slice': 'trans men', 'topic': 'Gen...</td>\n",
       "      <td>nothate</td>\n",
       "    </tr>\n",
       "    <tr>\n",
       "      <th>2</th>\n",
       "      <td>I do not have passions in life, and I'm not su...</td>\n",
       "      <td>2</td>\n",
       "      <td>[{'sentence_slice': 'passions in life', 'topic...</td>\n",
       "      <td>nothate</td>\n",
       "    </tr>\n",
       "    <tr>\n",
       "      <th>3</th>\n",
       "      <td>You better be. That was the most half-assed co...</td>\n",
       "      <td>3</td>\n",
       "      <td>[{'sentence_slice': 'comeback attempt', 'topic...</td>\n",
       "      <td>nothate</td>\n",
       "    </tr>\n",
       "    <tr>\n",
       "      <th>4</th>\n",
       "      <td>Waging war on, and bombing, a foreign sovereig...</td>\n",
       "      <td>4</td>\n",
       "      <td>[{'sentence_slice': 'war', 'topic': 'Conflict'...</td>\n",
       "      <td>hate</td>\n",
       "    </tr>\n",
       "  </tbody>\n",
       "</table>\n",
       "</div>"
      ],
      "text/plain": [
       "                                                text  sentence_number  \\\n",
       "0  social services have a love/hate relationship ...                0   \n",
       "1  Yes it's a joke and offensive isn't it? Why ar...                1   \n",
       "2  I do not have passions in life, and I'm not su...                2   \n",
       "3  You better be. That was the most half-assed co...                3   \n",
       "4  Waging war on, and bombing, a foreign sovereig...                4   \n",
       "\n",
       "                                              topics    label  \n",
       "0  [{'sentence_slice': 'social services', 'topic'...  nothate  \n",
       "1  [{'sentence_slice': 'trans men', 'topic': 'Gen...  nothate  \n",
       "2  [{'sentence_slice': 'passions in life', 'topic...  nothate  \n",
       "3  [{'sentence_slice': 'comeback attempt', 'topic...  nothate  \n",
       "4  [{'sentence_slice': 'war', 'topic': 'Conflict'...     hate  "
      ]
     },
     "execution_count": 8,
     "metadata": {},
     "output_type": "execute_result"
    }
   ],
   "source": [
    "merged_df.head()"
   ]
  },
  {
   "cell_type": "code",
   "execution_count": 9,
   "metadata": {},
   "outputs": [
    {
     "data": {
      "text/plain": [
       "dict"
      ]
     },
     "execution_count": 9,
     "metadata": {},
     "output_type": "execute_result"
    }
   ],
   "source": [
    "type(merged_df.iloc[0]['topics'][0])"
   ]
  },
  {
   "cell_type": "code",
   "execution_count": 12,
   "metadata": {},
   "outputs": [],
   "source": [
    "merged_df.to_pickle(\"merged_df.pk\")"
   ]
  },
  {
   "cell_type": "code",
   "execution_count": 13,
   "metadata": {},
   "outputs": [],
   "source": [
    "merged_df.to_csv(\"merged_df.csv\")"
   ]
  }
 ],
 "metadata": {
  "kernelspec": {
   "display_name": "Python 3",
   "language": "python",
   "name": "python3"
  },
  "language_info": {
   "codemirror_mode": {
    "name": "ipython",
    "version": 3
   },
   "file_extension": ".py",
   "mimetype": "text/x-python",
   "name": "python",
   "nbconvert_exporter": "python",
   "pygments_lexer": "ipython3",
   "version": "3.10.13"
  }
 },
 "nbformat": 4,
 "nbformat_minor": 2
}
