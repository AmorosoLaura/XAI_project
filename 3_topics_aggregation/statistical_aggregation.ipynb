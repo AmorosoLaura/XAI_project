{
 "cells": [
  {
   "cell_type": "code",
   "execution_count": 10,
   "metadata": {},
   "outputs": [
    {
     "name": "stdout",
     "output_type": "stream",
     "text": [
      "3221\n"
     ]
    }
   ],
   "source": [
    "import pandas as pd\n",
    "\n",
    "data = pd.read_pickle(\"../data/initial_topics_labels/intial_topics_labels.pk\")\n",
    "        \n",
    "all_topics = list(set([t_dict['topic'] for sentence_topics in data['topics'] for t_dict in sentence_topics]))\n",
    "\n",
    "print(len(all_topics))"
   ]
  },
  {
   "cell_type": "code",
   "execution_count": 12,
   "metadata": {},
   "outputs": [
    {
     "name": "stderr",
     "output_type": "stream",
     "text": [
      "c:\\Python311\\Lib\\site-packages\\huggingface_hub\\file_download.py:1132: FutureWarning: `resume_download` is deprecated and will be removed in version 1.0.0. Downloads always resume when possible. If you want to force a new download, use `force_download=True`.\n",
      "  warnings.warn(\n"
     ]
    },
    {
     "name": "stdout",
     "output_type": "stream",
     "text": [
      "(384,)\n"
     ]
    }
   ],
   "source": [
    "from sklearn.manifold import TSNE\n",
    "import matplotlib.pyplot as plt\n",
    "from sentence_transformers import SentenceTransformer\n",
    "from sklearn.cluster import KMeans\n",
    "import numpy as np\n",
    "\n",
    "# Initialize the model\n",
    "model = SentenceTransformer('paraphrase-MiniLM-L6-v2')\n",
    "\n",
    "# Generate embeddings for each concept\n",
    "embeddings = model.encode(all_topics)\n",
    "\n",
    "print(embeddings[0].shape)\n",
    "\n",
    "# Reduce dimensionality of embeddings for visualization\n",
    "tsne = TSNE(n_components=2, perplexity=5, random_state=42)\n",
    "embeddings_2d = tsne.fit_transform(embeddings)"
   ]
  },
  {
   "cell_type": "code",
   "execution_count": 15,
   "metadata": {},
   "outputs": [],
   "source": [
    "aggregated_concepts = [\n",
    "    'Time & Events', 'Threat or Risk', 'Social setting/impact', 'Food and drink', 'Insult', 'Abstraction',\n",
    "    'Information and knowledge', 'Health Medicine', 'Negative sentiments', 'Death', 'Fitness and Skills', 'Migration',\n",
    "    'Animals', 'Internet and media', 'Race or ethnicity', 'Aggression and Violence', 'Identity',\n",
    "    'Behavior & Attitude', 'Racial stereotypes', 'Jobs & Institutions', 'Culture',\n",
    "    'Finance and wealth', 'Children', 'Personal tastes & Art', 'Relationships',\n",
    "    'Addictions/Drugs', 'History', 'Claim/Opinion', 'Safety', 'Moral issues',\n",
    "    'Crime', 'Gender', 'Personal traits/taste', 'Locations/Geography', 'Politics', 'Groups/Names',\n",
    "    'Society & Culture', 'Emotions', 'Law and regulation', 'Language and communication', 'Brand/Product',\n",
    "    'Life', 'Environment', 'Geopolitics/National Issue', 'War', 'Family', 'Technology/equipment',\n",
    "    'Sexuality', 'Media/entertainment', 'Religion'\n",
    "]\n",
    "\n",
    "num_clusters = len(aggregated_concepts)"
   ]
  },
  {
   "cell_type": "code",
   "execution_count": 16,
   "metadata": {},
   "outputs": [],
   "source": [
    "clustering_model = KMeans(n_clusters=num_clusters, n_init='auto',random_state=42)\n",
    "clustering_model.fit(embeddings)\n",
    "cluster_assignment = clustering_model.labels_"
   ]
  },
  {
   "cell_type": "code",
   "execution_count": 18,
   "metadata": {},
   "outputs": [
    {
     "name": "stdout",
     "output_type": "stream",
     "text": [
      "3221\n"
     ]
    }
   ],
   "source": [
    "print(len(cluster_assignment))"
   ]
  },
  {
   "cell_type": "code",
   "execution_count": 19,
   "metadata": {},
   "outputs": [],
   "source": [
    "from collections import defaultdict\n",
    "\n",
    "clustered_concepts = defaultdict(list)\n",
    "\n",
    "for i, cluster_id in enumerate(cluster_assignment):\n",
    "    clustered_concepts[cluster_id].append(all_topics[i])\n"
   ]
  },
  {
   "cell_type": "code",
   "execution_count": 20,
   "metadata": {},
   "outputs": [],
   "source": [
    "def find_cluster_id(clustered_concepts, word):\n",
    "    for cluster_id, topics in clustered_concepts.items():\n",
    "        if word in topics:\n",
    "            return cluster_id\n",
    "    return -1"
   ]
  },
  {
   "cell_type": "code",
   "execution_count": 21,
   "metadata": {},
   "outputs": [
    {
     "data": {
      "text/html": [
       "<div>\n",
       "<style scoped>\n",
       "    .dataframe tbody tr th:only-of-type {\n",
       "        vertical-align: middle;\n",
       "    }\n",
       "\n",
       "    .dataframe tbody tr th {\n",
       "        vertical-align: top;\n",
       "    }\n",
       "\n",
       "    .dataframe thead th {\n",
       "        text-align: right;\n",
       "    }\n",
       "</style>\n",
       "<table border=\"1\" class=\"dataframe\">\n",
       "  <thead>\n",
       "    <tr style=\"text-align: right;\">\n",
       "      <th></th>\n",
       "      <th>text</th>\n",
       "      <th>sentence_number</th>\n",
       "      <th>topics</th>\n",
       "      <th>label</th>\n",
       "    </tr>\n",
       "  </thead>\n",
       "  <tbody>\n",
       "    <tr>\n",
       "      <th>0</th>\n",
       "      <td>social services have a love/hate relationship ...</td>\n",
       "      <td>0</td>\n",
       "      <td>['Health Medicine', 'Jobs &amp; Institutions']</td>\n",
       "      <td>nothate</td>\n",
       "    </tr>\n",
       "    <tr>\n",
       "      <th>1</th>\n",
       "      <td>Yes it's a joke and offensive isn't it? Why ar...</td>\n",
       "      <td>1</td>\n",
       "      <td>['Gender', 'Social setting/impact']</td>\n",
       "      <td>nothate</td>\n",
       "    </tr>\n",
       "  </tbody>\n",
       "</table>\n",
       "</div>"
      ],
      "text/plain": [
       "                                                text  sentence_number  \\\n",
       "0  social services have a love/hate relationship ...                0   \n",
       "1  Yes it's a joke and offensive isn't it? Why ar...                1   \n",
       "\n",
       "                                       topics    label  \n",
       "0  ['Health Medicine', 'Jobs & Institutions']  nothate  \n",
       "1         ['Gender', 'Social setting/impact']  nothate  "
      ]
     },
     "execution_count": 21,
     "metadata": {},
     "output_type": "execute_result"
    }
   ],
   "source": [
    "data = pd.read_csv(\"../data/broad_topic/broad_topic_df.csv\")\n",
    "data.head(2)"
   ]
  },
  {
   "cell_type": "code",
   "execution_count": 41,
   "metadata": {},
   "outputs": [],
   "source": [
    "from itertools import permutations\n",
    "import numpy as np\n",
    "import ast\n",
    "\n",
    "occurrencies = np.zeros((num_clusters, num_clusters), dtype=int)\n",
    "\n",
    "for topics in data['topics']:\n",
    "    topics = ast.literal_eval(topics)\n",
    "    \n",
    "    numerical_topics = [aggregated_concepts.index(topic) for topic in topics]\n",
    "    \n",
    "    for (i, j) in permutations(numerical_topics, 2):\n",
    "        occurrencies[i, j] += 1"
   ]
  },
  {
   "cell_type": "code",
   "execution_count": 42,
   "metadata": {},
   "outputs": [
    {
     "name": "stdout",
     "output_type": "stream",
     "text": [
      "[[ 0 17 61 ... 10 18 19]\n",
      " [17  0 14 ... 21  9 17]\n",
      " [61 14  0 ... 16  7 34]\n",
      " ...\n",
      " [10 21 16 ...  0 12 22]\n",
      " [18  9  7 ... 12  0  8]\n",
      " [19 17 34 ... 22  8  0]]\n"
     ]
    }
   ],
   "source": [
    "print(occurrencies)"
   ]
  },
  {
   "cell_type": "code",
   "execution_count": 60,
   "metadata": {},
   "outputs": [
    {
     "name": "stdout",
     "output_type": "stream",
     "text": [
      "12\n",
      "Gruppi di categorie:\n",
      "['Time & Events', 'Food and drink', 'Abstraction', 'Death', 'Migration', 'Animals', 'Internet and media', 'Identity', 'Culture', 'Children', 'Personal tastes & Art', 'Addictions/Drugs', 'Safety', 'Language and communication', 'Brand/Product', 'Life', 'War', 'Family', 'Technology/equipment']\n",
      "['Threat or Risk', 'Insult', 'Negative sentiments', 'Fitness and Skills', 'Behavior & Attitude', 'Finance and wealth', 'History', 'Moral issues', 'Crime', 'Society & Culture', 'Emotions', 'Law and regulation', 'Environment', 'Geopolitics/National Issue', 'Media/entertainment']\n",
      "['Social setting/impact', 'Information and knowledge', 'Aggression and Violence']\n",
      "['Health Medicine', 'Relationships']\n",
      "['Race or ethnicity', 'Sexuality']\n",
      "['Racial stereotypes', 'Personal traits/taste']\n",
      "['Jobs & Institutions', 'Locations/Geography']\n",
      "['Claim/Opinion']\n",
      "['Gender']\n",
      "['Politics']\n",
      "['Groups/Names']\n",
      "['Religion']\n"
     ]
    }
   ],
   "source": [
    "THRESHOLD = 12\n",
    "\n",
    "def can_add_to_group(category_index, group, matrix, threshold):\n",
    "    return all(matrix[category_index, i] <= threshold for i in group)\n",
    "\n",
    "groups = []\n",
    "\n",
    "for i in range(num_clusters):\n",
    "    added = False\n",
    "    for group in groups:\n",
    "        if can_add_to_group(i, group, occurrencies, THRESHOLD):\n",
    "            group.append(i)\n",
    "            added = True\n",
    "            break\n",
    "    if not added:\n",
    "        groups.append([i])\n",
    "\n",
    "grouped_categories = [[aggregated_concepts[i] for i in group] for group in groups]\n",
    "\n",
    "print(len(grouped_categories))\n",
    "\n",
    "print(\"Gruppi di categorie:\")\n",
    "for group in grouped_categories:\n",
    "    print(group)"
   ]
  },
  {
   "cell_type": "code",
   "execution_count": 62,
   "metadata": {},
   "outputs": [],
   "source": [
    "dict = {}\n",
    "\n",
    "for i, group in enumerate(grouped_categories):\n",
    "    for cat in group:\n",
    "        dict[cat] = i"
   ]
  },
  {
   "cell_type": "code",
   "execution_count": 63,
   "metadata": {},
   "outputs": [
    {
     "data": {
      "text/plain": [
       "{'Time & Events': 0,\n",
       " 'Food and drink': 0,\n",
       " 'Abstraction': 0,\n",
       " 'Death': 0,\n",
       " 'Migration': 0,\n",
       " 'Animals': 0,\n",
       " 'Internet and media': 0,\n",
       " 'Identity': 0,\n",
       " 'Culture': 0,\n",
       " 'Children': 0,\n",
       " 'Personal tastes & Art': 0,\n",
       " 'Addictions/Drugs': 0,\n",
       " 'Safety': 0,\n",
       " 'Language and communication': 0,\n",
       " 'Brand/Product': 0,\n",
       " 'Life': 0,\n",
       " 'War': 0,\n",
       " 'Family': 0,\n",
       " 'Technology/equipment': 0,\n",
       " 'Threat or Risk': 1,\n",
       " 'Insult': 1,\n",
       " 'Negative sentiments': 1,\n",
       " 'Fitness and Skills': 1,\n",
       " 'Behavior & Attitude': 1,\n",
       " 'Finance and wealth': 1,\n",
       " 'History': 1,\n",
       " 'Moral issues': 1,\n",
       " 'Crime': 1,\n",
       " 'Society & Culture': 1,\n",
       " 'Emotions': 1,\n",
       " 'Law and regulation': 1,\n",
       " 'Environment': 1,\n",
       " 'Geopolitics/National Issue': 1,\n",
       " 'Media/entertainment': 1,\n",
       " 'Social setting/impact': 2,\n",
       " 'Information and knowledge': 2,\n",
       " 'Aggression and Violence': 2,\n",
       " 'Health Medicine': 3,\n",
       " 'Relationships': 3,\n",
       " 'Race or ethnicity': 4,\n",
       " 'Sexuality': 4,\n",
       " 'Racial stereotypes': 5,\n",
       " 'Personal traits/taste': 5,\n",
       " 'Jobs & Institutions': 6,\n",
       " 'Locations/Geography': 6,\n",
       " 'Claim/Opinion': 7,\n",
       " 'Gender': 8,\n",
       " 'Politics': 9,\n",
       " 'Groups/Names': 10,\n",
       " 'Religion': 11}"
      ]
     },
     "execution_count": 63,
     "metadata": {},
     "output_type": "execute_result"
    }
   ],
   "source": [
    "dict"
   ]
  }
 ],
 "metadata": {
  "kernelspec": {
   "display_name": "Python 3.11.0 64-bit",
   "language": "python",
   "name": "python3"
  },
  "language_info": {
   "codemirror_mode": {
    "name": "ipython",
    "version": 3
   },
   "file_extension": ".py",
   "mimetype": "text/x-python",
   "name": "python",
   "nbconvert_exporter": "python",
   "pygments_lexer": "ipython3",
   "version": "3.11.0"
  },
  "orig_nbformat": 4,
  "vscode": {
   "interpreter": {
    "hash": "c261aea317cc0286b3b3261fbba9abdec21eaa57589985bb7a274bf54d6cc0a7"
   }
  }
 },
 "nbformat": 4,
 "nbformat_minor": 2
}
